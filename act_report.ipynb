{
 "cells": [
  {
   "cell_type": "markdown",
   "metadata": {},
   "source": [
    "# Act Report"
   ]
  },
  {
   "cell_type": "markdown",
   "metadata": {},
   "source": [
    "### Date Created: 07/03/2019"
   ]
  },
  {
   "attachments": {},
   "cell_type": "markdown",
   "metadata": {},
   "source": [
    "During this project I posed several questions that my wrangling efforts and analysis were able to answer. \n",
    "\n",
    "The first question I was able to answer is which breed is most likeable? By going solely on WeRateDogs seemingly meaningless ratings was deemed futile but combining this information with the amount of favourites and retweets each post got we created a new likeability variable. \n",
    "\n",
    "The likeability variable was a combination of the opinion of WeRateDogs and the followers of WeRateDogs on twitter. \n",
    "\n",
    "**The breed with the highest likeability was the Bedlington Terrier**, which I couldn’t immediately recall but after a quick Google Image Search I quickly understood why they ranked first. To further this analysis I would only rank likeability on dogs which received 5 or more posts to prevent viral single entry breeds from occupying the top spots. \n",
    "\n",
    "The second question was similar to the first but showed which breeds had the lowest likeability value. **Sadly, the dog with the lowest likeability was the Black and Tan Coonhound**. Again, a breed that I couldn’t immediately recall. Although only describing the dogs ability to hunt racoons, I wonder if the use of the term coon, a disgusting derogatory term for black people is a causal factor into the dogs low likeability. To further this question I would again rank likeability on dogs which received 5 or more posts to prevent single entry breeds from older posts which didn’t receive many favorites or retweets from skewing the analysis. \n",
    "\n",
    "I now moved on to see if the best name for dogs, and arguably the best name for humans, Jack. **Jack had a strong likeability value**. I found one dog with the name Jack which was a Labrador Retriever. Jack received a likeability score of  59,773,151. A great score which managed to secure the 130th spot out of 659 names. The name of the dog with the least likeability was unsurprisingly named Walter but I feel if any dogs in the list were named Keith then this would have taken the lowest spot. \n",
    "\n",
    "**The most popular name for dogs was Oliver.**\n",
    "\n",
    "WeRateDogs arbitrary rating system has begun to grow over time which begs the questions, are dogs becoming more gooder? Personally I believe dogs have always been 110% puurrrfect and it’s WeRateDogs numerators that are becoming even less meaningless than they already are. \n",
    "\n",
    "**The posts that contained a combination of doggo’s and puppo’s scored the highest likeability**. This is undeniably the best combination. Puppers were the most commonly rated dog type though. \n",
    "\n",
    "WeRateDogs did appear to have some bias toward **Golden Retrievers as they are the most commonly rated dogs**. However it’s easy to see why. \n",
    "\n",
    "If I were to recommend a plan of action to increase engagement on WeRateDogs twitter feed it would be to post more doggo puppo combinations of Bedlington Terriors named Stephan, Zoey or Atticus but certainly not named Walter or Keith. I would also advise that continually increasing ratings is a slippery slope so should not be done lightly. \n",
    "\n",
    "Please take this report with a pinch of salt. This Udacity Project is designed to test my wrangling abilities not the conclusions I am able to draw. 12/10 would wrangle dogs again. "
   ]
  }
 ],
 "metadata": {
  "kernelspec": {
   "display_name": "Python 3",
   "language": "python",
   "name": "python3"
  },
  "language_info": {
   "codemirror_mode": {
    "name": "ipython",
    "version": 3
   },
   "file_extension": ".py",
   "mimetype": "text/x-python",
   "name": "python",
   "nbconvert_exporter": "python",
   "pygments_lexer": "ipython3",
   "version": "3.6.8"
  }
 },
 "nbformat": 4,
 "nbformat_minor": 2
}
